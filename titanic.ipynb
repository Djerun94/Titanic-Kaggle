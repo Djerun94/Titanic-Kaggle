{
 "cells": [
  {
   "cell_type": "code",
   "execution_count": 1,
   "id": "b0a39185",
   "metadata": {},
   "outputs": [],
   "source": [
    "import pandas as pd #datenbereinigung/processing\n",
    "import numpy as np\n",
    "from sklearn.model_selection import train_test_split #datensatz splitten in train und test- datensätze\n",
    "from sklearn.datasets import load_iris\n",
    "from sklearn.linear_model import LogisticRegression\n",
    "from sklearn.metrics import accuracy_score"
   ]
  },
  {
   "cell_type": "code",
   "execution_count": 2,
   "id": "4ca6a56c",
   "metadata": {},
   "outputs": [
    {
     "name": "stdout",
     "output_type": "stream",
     "text": [
      "     PassengerId  Survived  Pclass  \\\n",
      "0              1         0       3   \n",
      "1              2         1       1   \n",
      "2              3         1       3   \n",
      "3              4         1       1   \n",
      "4              5         0       3   \n",
      "..           ...       ...     ...   \n",
      "886          887         0       2   \n",
      "887          888         1       1   \n",
      "888          889         0       3   \n",
      "889          890         1       1   \n",
      "890          891         0       3   \n",
      "\n",
      "                                                  Name     Sex   Age  SibSp  \\\n",
      "0                              Braund, Mr. Owen Harris    male  22.0      1   \n",
      "1    Cumings, Mrs. John Bradley (Florence Briggs Th...  female  38.0      1   \n",
      "2                               Heikkinen, Miss. Laina  female  26.0      0   \n",
      "3         Futrelle, Mrs. Jacques Heath (Lily May Peel)  female  35.0      1   \n",
      "4                             Allen, Mr. William Henry    male  35.0      0   \n",
      "..                                                 ...     ...   ...    ...   \n",
      "886                              Montvila, Rev. Juozas    male  27.0      0   \n",
      "887                       Graham, Miss. Margaret Edith  female  19.0      0   \n",
      "888           Johnston, Miss. Catherine Helen \"Carrie\"  female   NaN      1   \n",
      "889                              Behr, Mr. Karl Howell    male  26.0      0   \n",
      "890                                Dooley, Mr. Patrick    male  32.0      0   \n",
      "\n",
      "     Parch            Ticket     Fare Cabin Embarked  \n",
      "0        0         A/5 21171   7.2500   NaN        S  \n",
      "1        0          PC 17599  71.2833   C85        C  \n",
      "2        0  STON/O2. 3101282   7.9250   NaN        S  \n",
      "3        0            113803  53.1000  C123        S  \n",
      "4        0            373450   8.0500   NaN        S  \n",
      "..     ...               ...      ...   ...      ...  \n",
      "886      0            211536  13.0000   NaN        S  \n",
      "887      0            112053  30.0000   B42        S  \n",
      "888      2        W./C. 6607  23.4500   NaN        S  \n",
      "889      0            111369  30.0000  C148        C  \n",
      "890      0            370376   7.7500   NaN        Q  \n",
      "\n",
      "[891 rows x 12 columns]\n"
     ]
    }
   ],
   "source": [
    "data = pd.read_csv(\"train.csv\")\n",
    "print(data)"
   ]
  },
  {
   "cell_type": "code",
   "execution_count": 3,
   "id": "a6ef0d3f",
   "metadata": {},
   "outputs": [
    {
     "name": "stdout",
     "output_type": "stream",
     "text": [
      "     Survived  Pclass     Sex   Age  SibSp  Parch     Fare Cabin Embarked\n",
      "0           0       3    male  22.0      1      0   7.2500   NaN        S\n",
      "1           1       1  female  38.0      1      0  71.2833   C85        C\n",
      "2           1       3  female  26.0      0      0   7.9250   NaN        S\n",
      "3           1       1  female  35.0      1      0  53.1000  C123        S\n",
      "4           0       3    male  35.0      0      0   8.0500   NaN        S\n",
      "..        ...     ...     ...   ...    ...    ...      ...   ...      ...\n",
      "886         0       2    male  27.0      0      0  13.0000   NaN        S\n",
      "887         1       1  female  19.0      0      0  30.0000   B42        S\n",
      "888         0       3  female   NaN      1      2  23.4500   NaN        S\n",
      "889         1       1    male  26.0      0      0  30.0000  C148        C\n",
      "890         0       3    male  32.0      0      0   7.7500   NaN        Q\n",
      "\n",
      "[891 rows x 9 columns]\n"
     ]
    }
   ],
   "source": [
    "data = data.drop([\"Name\" , \"Ticket\" , \"PassengerId\"] , axis=1) # diese zeilen werden gelöscht, da nicht binär\n",
    "print(data)"
   ]
  },
  {
   "cell_type": "code",
   "execution_count": 4,
   "id": "64ad76ca",
   "metadata": {},
   "outputs": [
    {
     "name": "stdout",
     "output_type": "stream",
     "text": [
      "     Survived  Pclass  Sex   Age  SibSp  Parch     Fare Cabin Embarked\n",
      "0           0       3    0  22.0      1      0   7.2500     0        S\n",
      "1           1       1    1  38.0      1      0  71.2833   C85        C\n",
      "2           1       3    1  26.0      0      0   7.9250     0        S\n",
      "3           1       1    1  35.0      1      0  53.1000  C123        S\n",
      "4           0       3    0  35.0      0      0   8.0500     0        S\n",
      "..        ...     ...  ...   ...    ...    ...      ...   ...      ...\n",
      "886         0       2    0  27.0      0      0  13.0000     0        S\n",
      "887         1       1    1  19.0      0      0  30.0000   B42        S\n",
      "888         0       3    1   0.0      1      2  23.4500     0        S\n",
      "889         1       1    0  26.0      0      0  30.0000  C148        C\n",
      "890         0       3    0  32.0      0      0   7.7500     0        Q\n",
      "\n",
      "[891 rows x 9 columns]\n"
     ]
    }
   ],
   "source": [
    "data['Sex'].replace(\"female\", 1 ,inplace=True)\n",
    "data['Sex'].replace(\"male\", 0 ,inplace=True)\n",
    "data = data.fillna(0)\n",
    "print(data)"
   ]
  },
  {
   "cell_type": "code",
   "execution_count": 5,
   "id": "af9d5fda",
   "metadata": {},
   "outputs": [],
   "source": [
    "Y = data[\"Survived\"]\n",
    "X = data.drop([\"Survived\" , \"Cabin\" , \"Embarked\"] , axis = 1)\n"
   ]
  },
  {
   "cell_type": "code",
   "execution_count": 6,
   "id": "e7008782",
   "metadata": {},
   "outputs": [],
   "source": [
    "dummies = pd.get_dummies(data['Pclass'], prefix='Pclass')\n",
    "dummies2 = pd.get_dummies(data['Embarked'], prefix='Embarked')\n",
    "\n",
    "\n",
    "X = X.join((dummies.loc[:, 'Pclass_1':]))\n",
    "X = X.join((dummies2.loc[:, 'Embarked_0':]))\n"
   ]
  },
  {
   "cell_type": "code",
   "execution_count": 10,
   "id": "f428fbd6",
   "metadata": {},
   "outputs": [],
   "source": [
    "clf = LogisticRegression(max_iter = 500 , n_jobs=-1)\n",
    "\n",
    "train_x, test_x , train_y , test_y = train_test_split(X , Y)"
   ]
  },
  {
   "cell_type": "code",
   "execution_count": 11,
   "id": "32274010",
   "metadata": {},
   "outputs": [
    {
     "data": {
      "text/plain": [
       "LogisticRegression(max_iter=500, n_jobs=-1)"
      ]
     },
     "execution_count": 11,
     "metadata": {},
     "output_type": "execute_result"
    }
   ],
   "source": [
    "clf.fit(train_x, train_y)"
   ]
  },
  {
   "cell_type": "code",
   "execution_count": 13,
   "id": "c01e0a22",
   "metadata": {},
   "outputs": [
    {
     "data": {
      "text/html": [
       "<div>\n",
       "<style scoped>\n",
       "    .dataframe tbody tr th:only-of-type {\n",
       "        vertical-align: middle;\n",
       "    }\n",
       "\n",
       "    .dataframe tbody tr th {\n",
       "        vertical-align: top;\n",
       "    }\n",
       "\n",
       "    .dataframe thead th {\n",
       "        text-align: right;\n",
       "    }\n",
       "</style>\n",
       "<table border=\"1\" class=\"dataframe\">\n",
       "  <thead>\n",
       "    <tr style=\"text-align: right;\">\n",
       "      <th></th>\n",
       "      <th>features</th>\n",
       "      <th>coef</th>\n",
       "      <th>odds_ratio</th>\n",
       "    </tr>\n",
       "  </thead>\n",
       "  <tbody>\n",
       "    <tr>\n",
       "      <th>0</th>\n",
       "      <td>Pclass</td>\n",
       "      <td>-0.654933</td>\n",
       "      <td>0.519477</td>\n",
       "    </tr>\n",
       "    <tr>\n",
       "      <th>1</th>\n",
       "      <td>Sex</td>\n",
       "      <td>2.600556</td>\n",
       "      <td>13.471225</td>\n",
       "    </tr>\n",
       "    <tr>\n",
       "      <th>2</th>\n",
       "      <td>Age</td>\n",
       "      <td>-0.015533</td>\n",
       "      <td>0.984587</td>\n",
       "    </tr>\n",
       "    <tr>\n",
       "      <th>3</th>\n",
       "      <td>SibSp</td>\n",
       "      <td>-0.287957</td>\n",
       "      <td>0.749794</td>\n",
       "    </tr>\n",
       "    <tr>\n",
       "      <th>4</th>\n",
       "      <td>Parch</td>\n",
       "      <td>0.011360</td>\n",
       "      <td>1.011425</td>\n",
       "    </tr>\n",
       "    <tr>\n",
       "      <th>5</th>\n",
       "      <td>Fare</td>\n",
       "      <td>0.000090</td>\n",
       "      <td>1.000090</td>\n",
       "    </tr>\n",
       "    <tr>\n",
       "      <th>6</th>\n",
       "      <td>Pclass_1</td>\n",
       "      <td>0.286523</td>\n",
       "      <td>1.331789</td>\n",
       "    </tr>\n",
       "    <tr>\n",
       "      <th>7</th>\n",
       "      <td>Pclass_2</td>\n",
       "      <td>0.102509</td>\n",
       "      <td>1.107947</td>\n",
       "    </tr>\n",
       "    <tr>\n",
       "      <th>8</th>\n",
       "      <td>Pclass_3</td>\n",
       "      <td>-0.382158</td>\n",
       "      <td>0.682387</td>\n",
       "    </tr>\n",
       "    <tr>\n",
       "      <th>9</th>\n",
       "      <td>Embarked_0</td>\n",
       "      <td>0.173723</td>\n",
       "      <td>1.189726</td>\n",
       "    </tr>\n",
       "    <tr>\n",
       "      <th>10</th>\n",
       "      <td>Embarked_C</td>\n",
       "      <td>0.109754</td>\n",
       "      <td>1.116003</td>\n",
       "    </tr>\n",
       "    <tr>\n",
       "      <th>11</th>\n",
       "      <td>Embarked_Q</td>\n",
       "      <td>-0.062150</td>\n",
       "      <td>0.939742</td>\n",
       "    </tr>\n",
       "    <tr>\n",
       "      <th>12</th>\n",
       "      <td>Embarked_S</td>\n",
       "      <td>-0.214453</td>\n",
       "      <td>0.806983</td>\n",
       "    </tr>\n",
       "  </tbody>\n",
       "</table>\n",
       "</div>"
      ],
      "text/plain": [
       "      features      coef  odds_ratio\n",
       "0       Pclass -0.654933    0.519477\n",
       "1          Sex  2.600556   13.471225\n",
       "2          Age -0.015533    0.984587\n",
       "3        SibSp -0.287957    0.749794\n",
       "4        Parch  0.011360    1.011425\n",
       "5         Fare  0.000090    1.000090\n",
       "6     Pclass_1  0.286523    1.331789\n",
       "7     Pclass_2  0.102509    1.107947\n",
       "8     Pclass_3 -0.382158    0.682387\n",
       "9   Embarked_0  0.173723    1.189726\n",
       "10  Embarked_C  0.109754    1.116003\n",
       "11  Embarked_Q -0.062150    0.939742\n",
       "12  Embarked_S -0.214453    0.806983"
      ]
     },
     "execution_count": 13,
     "metadata": {},
     "output_type": "execute_result"
    }
   ],
   "source": [
    "coef = pd.DataFrame({\"features\" : train_x.columns,\n",
    "                     \"coef\" : clf.coef_[0],\n",
    "                     \"odds_ratio\" : np.exp(clf.coef_[0])})\n",
    "coef[['features', 'coef', 'odds_ratio']]"
   ]
  },
  {
   "cell_type": "code",
   "execution_count": 14,
   "id": "f52d8625",
   "metadata": {},
   "outputs": [
    {
     "data": {
      "text/plain": [
       "0.820627802690583"
      ]
     },
     "execution_count": 14,
     "metadata": {},
     "output_type": "execute_result"
    }
   ],
   "source": [
    "accuracy_score(clf.predict(test_x), test_y)"
   ]
  },
  {
   "cell_type": "code",
   "execution_count": null,
   "id": "e650a18c",
   "metadata": {},
   "outputs": [],
   "source": []
  }
 ],
 "metadata": {
  "kernelspec": {
   "display_name": "Python 3",
   "language": "python",
   "name": "python3"
  },
  "language_info": {
   "codemirror_mode": {
    "name": "ipython",
    "version": 3
   },
   "file_extension": ".py",
   "mimetype": "text/x-python",
   "name": "python",
   "nbconvert_exporter": "python",
   "pygments_lexer": "ipython3",
   "version": "3.8.8"
  }
 },
 "nbformat": 4,
 "nbformat_minor": 5
}
